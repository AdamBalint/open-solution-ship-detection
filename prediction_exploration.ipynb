{
 "cells": [
  {
   "cell_type": "code",
   "execution_count": null,
   "metadata": {},
   "outputs": [],
   "source": [
    "%matplotlib inline\n",
    "import pandas as pd\n",
    "from PIL import Image\n",
    "import numpy as np\n",
    "import ipywidgets as ipy\n",
    "\n",
    "from common_blocks.utils.misc import plot_results_for_id\n",
    "\n",
    "RESULTS_PATH = 'YOUR/PATH/TO/validation_results.csv'\n",
    "RESULTS_PATH = '/mnt/ml-team/minerva/open-solutions/ships/kuba/experiments/ship_505_cv_678_lb_681/validation_results.csv'"
   ]
  },
  {
   "cell_type": "code",
   "execution_count": null,
   "metadata": {},
   "outputs": [],
   "source": [
    "results = pd.read_csv(RESULTS_PATH)\n",
    "results.head()"
   ]
  },
  {
   "cell_type": "markdown",
   "metadata": {},
   "source": [
    "# Results drill down"
   ]
  },
  {
   "cell_type": "code",
   "execution_count": null,
   "metadata": {},
   "outputs": [],
   "source": [
    "results_ = results[['ImageId','number_of_ships','f2']].drop_duplicates()\n",
    "size = len(results_)\n",
    "\n",
    "empty = results_[results_['number_of_ships']==0]['f2']\n",
    "f2_empty, size_empty = empty.mean(), len(empty)\n",
    "gain_empty = (1-f2_empty)*size_empty/size\n",
    "\n",
    "non_empty = results_[results_['number_of_ships']!=0]['f2']\n",
    "f2_non_empty, size_non_empty = non_empty.mean(), len(non_empty)\n",
    "gain_non_empty = (1-f2_non_empty)*size_non_empty/size\n",
    "\n",
    "ship_1 = results_[results_['number_of_ships']==1]['f2']\n",
    "f2_1_ship, size_1_ship = ship_1.mean(), len(ship_1)\n",
    "gain_1_ship = (1-f2_1_ship)*size_1_ship/size\n",
    "\n",
    "ship_2_to_5 = results_[results_['number_of_ships'].between(2,5)]['f2']\n",
    "f2_2_to_5_ships, size_2_to_5_ships = ship_2_to_5.mean(), len(ship_2_to_5)\n",
    "gain_2_to_5_ship = (1-f2_2_to_5_ships)*size_2_to_5_ships/size\n",
    "\n",
    "ship_6_to_10 = results_[results_['number_of_ships'].between(6,10)]['f2']\n",
    "f2_6_to_10_ships, size_6_to_10_ships = ship_6_to_10.mean(), len(ship_6_to_10)\n",
    "gain_6_to_10_ship = (1-f2_6_to_10_ships)*size_6_to_10_ships/size\n",
    "\n",
    "ship_10_plus = results_[results_['number_of_ships']>10]['f2']\n",
    "f2_more_than_10_ships, size_more_than_10_ships = ship_10_plus.mean(), len(ship_10_plus)\n",
    "gain_10_ships = (1-f2_more_than_10_ships)*size_more_than_10_ships/size\n",
    "\n",
    "print('Empty | f2: {0:.3f} | gain: {1:.3f}'.format(f2_empty, gain_empty))\n",
    "print('Non Empty f2: {0:.3f} | gain: {1:.3f}'.format(f2_non_empty, gain_non_empty))\n",
    "print('1 ship f2: {0:.3f} | gain: {1:.3f}'.format(f2_1_ship, gain_1_ship))\n",
    "print('2-5 ships f2: {0:.3f} | gain: {1:.3f}'.format(f2_2_to_5_ships, gain_2_to_5_ship))\n",
    "print('5-10 ships f2: {0:.3f} | gain: {1:.3f}'.format(f2_6_to_10_ships, gain_6_to_10_ship))\n",
    "print('10+ ships f2: {0:.3f} | gain: {1:.3f}'.format(f2_more_than_10_ships, gain_10_ships))"
   ]
  },
  {
   "cell_type": "markdown",
   "metadata": {},
   "source": [
    "# Predictions Exploration"
   ]
  },
  {
   "cell_type": "markdown",
   "metadata": {},
   "source": [
    "### Non Empty"
   ]
  },
  {
   "cell_type": "code",
   "execution_count": null,
   "metadata": {},
   "outputs": [],
   "source": [
    "selected_predictions = results[(results['number_of_ships']!=0) &\n",
    "                          (results['f2'].between(0.0, 1.0))\n",
    "                         ][['ImageId','number_of_ships','f2']].\\\n",
    "   drop_duplicates().sort_values('f2').reset_index(drop=True)\n",
    "selected_predictions.head()"
   ]
  },
  {
   "cell_type": "code",
   "execution_count": null,
   "metadata": {
    "scrolled": false
   },
   "outputs": [],
   "source": [
    "@ipy.interact(idx=ipy.IntSlider(min=0.0, max=len(selected_predictions)-1, step=1.0, value=0.0))\n",
    "def plot(idx):\n",
    "    idx_pred = selected_predictions.iloc[idx]\n",
    "    print('f2 {}'.format(idx_pred['f2']))\n",
    "    plot_results_for_id(results, idx=idx_pred['ImageId'])"
   ]
  },
  {
   "cell_type": "code",
   "execution_count": null,
   "metadata": {},
   "outputs": [],
   "source": [
    "# def plot(idx):\n",
    "#     idx_pred = selected_predictions.iloc[idx]\n",
    "#     print('f2 {}'.format(idx_pred['f2']))\n",
    "#     plot_results_for_id(results, idx=idx_pred['ImageId'])\n",
    "# plot(0)"
   ]
  },
  {
   "cell_type": "code",
   "execution_count": null,
   "metadata": {},
   "outputs": [],
   "source": []
  }
 ],
 "metadata": {
  "kernelspec": {
   "display_name": "cpu py3",
   "language": "python",
   "name": "cpu_py3"
  },
  "language_info": {
   "codemirror_mode": {
    "name": "ipython",
    "version": 3
   },
   "file_extension": ".py",
   "mimetype": "text/x-python",
   "name": "python",
   "nbconvert_exporter": "python",
   "pygments_lexer": "ipython3",
   "version": "3.5.2"
  }
 },
 "nbformat": 4,
 "nbformat_minor": 2
}

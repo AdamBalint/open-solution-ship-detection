{
 "cells": [
  {
   "cell_type": "code",
   "execution_count": null,
   "metadata": {},
   "outputs": [],
   "source": [
    "%matplotlib inline\n",
    "\n",
    "import numpy as np\n",
    "import glob\n",
    "from PIL import Image\n",
    "import matplotlib.pyplot as plt\n",
    "\n",
    "from common_blocks.augmentation import iaa\n",
    "from common_blocks.utils.misc import plot_list"
   ]
  },
  {
   "cell_type": "code",
   "execution_count": null,
   "metadata": {},
   "outputs": [],
   "source": [
    "IMG_DIR = 'YOUR/DIR'\n",
    "IMG_DIR = '/mnt/ml-team/minerva/open-solutions/ships/data/train'\n",
    "\n",
    "IMG_IDX = 113\n",
    "img_filepath = sorted(glob.glob('{}/*'.format(IMG_DIR)))[IMG_IDX]\n",
    "img = np.array(Image.open(img_filepath)).astype(np.uint8)\n",
    "plt.imshow(img)"
   ]
  },
  {
   "cell_type": "markdown",
   "metadata": {},
   "source": [
    "# Affine augmentations"
   ]
  },
  {
   "cell_type": "code",
   "execution_count": null,
   "metadata": {},
   "outputs": [],
   "source": [
    "affine_seq = iaa.Sequential([\n",
    "#     General\n",
    "    iaa.Fliplr(0.5),\n",
    "    iaa.Flipud(0.5),   \n",
    "    iaa.Sometimes(0.5, iaa.CropAndPad(percent=(0.0,1.0), pad_mode='wrap'))\n",
    "], random_order=True)"
   ]
  },
  {
   "cell_type": "code",
   "execution_count": null,
   "metadata": {},
   "outputs": [],
   "source": [
    "AUG_NR = 6\n",
    "aug_imgs = []\n",
    "for _ in range(AUG_NR):\n",
    "    aug_img = affine_seq.augment_image(img)\n",
    "    aug_imgs.append(aug_img)\n",
    "plot_list(images=aug_imgs)"
   ]
  },
  {
   "cell_type": "markdown",
   "metadata": {},
   "source": [
    "# Intensity Augmentations"
   ]
  },
  {
   "cell_type": "code",
   "execution_count": null,
   "metadata": {},
   "outputs": [],
   "source": [
    "intensity_seq = iaa.Sequential([\n",
    "    iaa.Sometimes(0.3, iaa.ContrastNormalization((0.5, 1.5))),\n",
    "    iaa.OneOf([\n",
    "        iaa.Noop(),\n",
    "        iaa.OneOf([\n",
    "            iaa.Add((-10, 10)),\n",
    "            iaa.AddElementwise((-10, 10)),\n",
    "            iaa.Multiply((0.95, 1.05)),\n",
    "            iaa.MultiplyElementwise((0.95, 1.05)),\n",
    "        ]),\n",
    "        iaa.GaussianBlur(sigma=(0.0, 3.0)),\n",
    "    ])\n",
    "], random_order=False)"
   ]
  },
  {
   "cell_type": "code",
   "execution_count": null,
   "metadata": {},
   "outputs": [],
   "source": [
    "AUG_NR = 6\n",
    "aug_imgs = []\n",
    "for _ in range(AUG_NR):\n",
    "    aug_img = intensity_seq.augment_image(img)\n",
    "    aug_imgs.append(aug_img)\n",
    "plot_list(images=aug_imgs)"
   ]
  },
  {
   "cell_type": "code",
   "execution_count": null,
   "metadata": {},
   "outputs": [],
   "source": []
  }
 ],
 "metadata": {
  "kernelspec": {
   "display_name": "ships",
   "language": "python",
   "name": "ships"
  },
  "language_info": {
   "codemirror_mode": {
    "name": "ipython",
    "version": 3
   },
   "file_extension": ".py",
   "mimetype": "text/x-python",
   "name": "python",
   "nbconvert_exporter": "python",
   "pygments_lexer": "ipython3",
   "version": "3.5.2"
  }
 },
 "nbformat": 4,
 "nbformat_minor": 2
}
